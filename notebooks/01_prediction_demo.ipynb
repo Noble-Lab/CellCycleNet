{
 "cells": [
  {
   "cell_type": "markdown",
   "id": "77b4fd88-3e35-4778-8a50-868827774cbb",
   "metadata": {},
   "source": [
    "# CellCycleNet Example #1 - Predict cell cycle stage from segmented DAPI images\n",
    "\n",
    "Steps:\n",
    "\n",
    "1. given fields of view with already-segmented nuclei, generate single-nucleus images\n",
    "2. for each single-nucleus image, predict its cell cycle stage using the CCN pre-trained model\n",
    "\n",
    "### Step 1: create single-nuclei images from segmented fields of view"
   ]
  },
  {
   "cell_type": "code",
   "execution_count": null,
   "id": "001a1733-cda4-49db-833b-278f3c4a2099",
   "metadata": {},
   "outputs": [],
   "source": [
    "from cellcyclenet import CellCycleNet, utils\n",
    "\n",
    "IMAGE_DIR = '../data/test_tiles/'\n",
    "MASK_DIR = '../data/test_masks/'\n",
    "OUTPUT_DIR = '../data/test_SNI/'\n",
    "\n",
    "# generate unlabeled SNIs #\n",
    "df = utils.generate_images(IMAGE_DIR, MASK_DIR, OUTPUT_DIR, return_df=True, num_cores=None)\n",
    "df"
   ]
  },
  {
   "cell_type": "markdown",
   "id": "63f4651f-d75b-4d53-8f78-464fd8145a55",
   "metadata": {},
   "source": [
    "### Step 2: load pre-trained model and predict cell cycle stage"
   ]
  },
  {
   "cell_type": "code",
   "execution_count": null,
   "id": "d68416d9-5afb-45cd-9899-0be6a7548f21",
   "metadata": {},
   "outputs": [],
   "source": [
    "# load pre-trained model\n",
    "model = CellCycleNet()\n",
    "\n",
    "# create dataset #\n",
    "test = model.create_dataset(dataframe=df, split_data=False)\n",
    "\n",
    "# generate predictions #\n",
    "test_preds = model.predict(test, with_labels=False)\n",
    "\n",
    "test_preds.sort_values(['tile_num', 'obj_num'])"
   ]
  }
 ],
 "metadata": {
  "kernelspec": {
   "display_name": "Python 3 (ipykernel)",
   "language": "python",
   "name": "python3"
  },
  "language_info": {
   "codemirror_mode": {
    "name": "ipython",
    "version": 3
   },
   "file_extension": ".py",
   "mimetype": "text/x-python",
   "name": "python",
   "nbconvert_exporter": "python",
   "pygments_lexer": "ipython3",
   "version": "3.12.4"
  }
 },
 "nbformat": 4,
 "nbformat_minor": 5
}
