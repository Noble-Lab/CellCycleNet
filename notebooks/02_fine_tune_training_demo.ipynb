{
 "cells": [
  {
   "cell_type": "markdown",
   "id": "77b4fd88-3e35-4778-8a50-868827774cbb",
   "metadata": {},
   "source": [
    "# CellCycleNet Example #2 - Fine tune pre-trained model with additional training\n",
    "\n",
    "Steps:\n",
    "\n",
    "1. given fields of view with already-segmented nuclei and their already-known labels, generate labeled single-nucleus images\n",
    "2. load the pre-trained model and perform additional training.\n",
    "3. evaluate model performance.\n",
    "\n",
    "### Step 1: create labeled single-nuclei images from segmented fields of view"
   ]
  },
  {
   "cell_type": "code",
   "execution_count": null,
   "id": "001a1733-cda4-49db-833b-278f3c4a2099",
   "metadata": {},
   "outputs": [],
   "source": [
    "from cellcyclenet import CellCycleNet, utils\n",
    "\n",
    "IMAGE_DIR = '../data/test_tiles/'\n",
    "MASK_DIR = '../data/test_masks/'\n",
    "LABEL_DIR = '../data/test_labels/'\n",
    "OUTPUT_DIR = '../data/test_SNI_label/'\n",
    "\n",
    "# # generate unlabeled SNIs #\n",
    "df = utils.generate_images_labeled(IMAGE_DIR, MASK_DIR, LABEL_DIR, OUTPUT_DIR, return_df=True, num_cores=None)\n",
    "df"
   ]
  },
  {
   "cell_type": "markdown",
   "id": "63f4651f-d75b-4d53-8f78-464fd8145a55",
   "metadata": {},
   "source": [
    "### Step 2: load pre-trained model and train with labeled data"
   ]
  },
  {
   "cell_type": "code",
   "execution_count": null,
   "id": "dd2f8298-c077-436e-827b-89a3d7d2486b",
   "metadata": {},
   "outputs": [],
   "source": [
    "# load pre-trained model\n",
    "model = CellCycleNet()\n",
    "\n",
    "# create dataset\n",
    "train, val, test = model.create_dataset(dataframe=df, split_data=True)\n",
    "\n",
    "# train model\n",
    "model.train(train, val, n_epochs=10, transform=None, lazy_load=True, verbose=True)\n",
    "model.save_model('fine_tuned_model.pt')"
   ]
  },
  {
   "cell_type": "markdown",
   "id": "1577521d-4aaa-49c0-96de-91e3ea26ad97",
   "metadata": {},
   "source": [
    "### Step 3: evaluate model"
   ]
  },
  {
   "cell_type": "code",
   "execution_count": null,
   "id": "b14828fc-6e1b-4149-9c2f-54855a892356",
   "metadata": {},
   "outputs": [],
   "source": [
    "# evaluate model\n",
    "test_preds = model.predict(test, with_labels=True)\n",
    "model.plot_ROC(test_preds['label'], test_preds['pred'], test_preds['prob'])"
   ]
  }
 ],
 "metadata": {
  "kernelspec": {
   "display_name": "Python 3 (ipykernel)",
   "language": "python",
   "name": "python3"
  },
  "language_info": {
   "codemirror_mode": {
    "name": "ipython",
    "version": 3
   },
   "file_extension": ".py",
   "mimetype": "text/x-python",
   "name": "python",
   "nbconvert_exporter": "python",
   "pygments_lexer": "ipython3",
   "version": "3.12.4"
  }
 },
 "nbformat": 4,
 "nbformat_minor": 5
}
